{
 "cells": [
  {
   "cell_type": "markdown",
   "id": "36cdfcde",
   "metadata": {},
   "source": [
    "# Week 1: First Look at APOGEE Data\n",
    "\n",
    "The Apache Point Observatory Galactic Evolution Experiment (APOGEE) is a ground-based infrared spectroscopic survey of Milky Way stars that is a part of the larger Sloan Digital Sky Survey (SDSS-IV). APOGEE operated on two 2.5-meter telescopes, one in New Mexico and one in Chile, plus a 1-meter telescope at the New Mexico site. SDSS data release 17 includes APOGEE spectra of over 600,000 stars taken between 2011 and 2021. If you want to learn more about their observing program, I recommend you visit [the APOGEE website](https://www.sdss4.org/dr17/irspec/). You can also the [interactive spectrum search tool](https://dr17.sdss.org/infrared/spectrum/search) to search and view spectra of individual targets: just enter your search parameters, hit \"Search\", and click the \"ASPCAP Spectrum\" tab at the bottom."
   ]
  },
  {
   "cell_type": "markdown",
   "id": "bcd3d0d8",
   "metadata": {},
   "source": [
    "While the individual spectra are neat, we really want to investigate the properties of a huge number of stars and piece together general trends in the Milky Way as a whole. Fortunately, APOGEE has an automated pipeline called ASPCAP which has gone through every single spectrum and calculated stellar paremeters and chemical abundances for all of them! This includes the effective temperature $T_{\\rm{eff}}$, surface gravity $\\log(g)$, metallicity [M/H], and chemical abundance ratios like [C/N]."
   ]
  },
  {
   "cell_type": "markdown",
   "id": "797d2bc5",
   "metadata": {},
   "source": [
    "First, go download the full APOGEE data set [here](https://data.sdss.org/sas/dr17/apogee/spectro/aspcap/dr17/synspec_rev1/allStarLite-dr17-synspec_rev1.fits). This is a ~2 GB file so it may take some time. When it's done, place the file in the `data` folder so the rest of this notebook works."
   ]
  },
  {
   "cell_type": "markdown",
   "id": "504a34a1",
   "metadata": {},
   "source": [
    "## Intro to FITS files!"
   ]
  },
  {
   "cell_type": "markdown",
   "id": "1d3bc7e8",
   "metadata": {},
   "source": [
    "You might be wondering about the `.fits` extension. A FITS file is an idiosyncratic type of file "
   ]
  }
 ],
 "metadata": {
  "kernelspec": {
   "display_name": "Python 3 (ipykernel)",
   "language": "python",
   "name": "python3"
  },
  "language_info": {
   "codemirror_mode": {
    "name": "ipython",
    "version": 3
   },
   "file_extension": ".py",
   "mimetype": "text/x-python",
   "name": "python",
   "nbconvert_exporter": "python",
   "pygments_lexer": "ipython3",
   "version": "3.8.13"
  }
 },
 "nbformat": 4,
 "nbformat_minor": 5
}
